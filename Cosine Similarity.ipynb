{
 "cells": [
  {
   "cell_type": "code",
   "execution_count": 1,
   "metadata": {
    "collapsed": true
   },
   "outputs": [],
   "source": [
    "import pandas as pd"
   ]
  },
  {
   "cell_type": "code",
   "execution_count": 2,
   "metadata": {
    "collapsed": true
   },
   "outputs": [],
   "source": [
    "data = pd.read_csv('./train.csv')\n",
    "# remove NaN values in question2 column\n",
    "data = data.ix[data.question2.notnull()]"
   ]
  },
  {
   "cell_type": "code",
   "execution_count": 3,
   "metadata": {
    "collapsed": true
   },
   "outputs": [],
   "source": [
    "from nltk.corpus import stopwords\n",
    "# get english stopwords from nltk package\n",
    "stops = set(stopwords.words(\"english\"))"
   ]
  },
  {
   "cell_type": "code",
   "execution_count": 4,
   "metadata": {
    "collapsed": true
   },
   "outputs": [],
   "source": [
    "# import useful libraries\n",
    "from sklearn.feature_extraction.text import CountVectorizer\n",
    "from sklearn.pipeline import FeatureUnion, Pipeline\n",
    "from sklearn.feature_extraction.text import TfidfTransformer, TfidfVectorizer\n",
    "from sklearn.preprocessing import FunctionTransformer\n",
    "import numpy as np\n",
    "from sklearn.ensemble import RandomForestClassifier, AdaBoostClassifier, GradientBoostingClassifier"
   ]
  },
  {
   "cell_type": "code",
   "execution_count": 5,
   "metadata": {
    "collapsed": true
   },
   "outputs": [],
   "source": [
    "from sklearn.model_selection import train_test_split\n",
    "# split data \n",
    "X_train, X_test, y_train, y_test = train_test_split(data.ix[:,1:-1], data.ix[:,-1], test_size=0.3)"
   ]
  },
  {
   "cell_type": "code",
   "execution_count": 6,
   "metadata": {
    "collapsed": true
   },
   "outputs": [],
   "source": [
    "from sklearn.metrics import log_loss\n",
    "from sklearn.decomposition import NMF"
   ]
  },
  {
   "cell_type": "code",
   "execution_count": 7,
   "metadata": {
    "collapsed": true
   },
   "outputs": [],
   "source": [
    "from sklearn.metrics.pairwise import cosine_similarity"
   ]
  },
  {
   "cell_type": "code",
   "execution_count": 8,
   "metadata": {
    "collapsed": true
   },
   "outputs": [],
   "source": [
    "def get_cos_sim(X):\n",
    "    return cosine_similarity(X[0], X[1]).diagonal().reshape(-1,1)"
   ]
  },
  {
   "cell_type": "code",
   "execution_count": 9,
   "metadata": {
    "collapsed": true
   },
   "outputs": [],
   "source": [
    "def process_questions_func(X,stops):\n",
    "    vectorizer = CountVectorizer(stop_words=stops)\n",
    "    vectorizer.fit(X['question1'])\n",
    "    return (vectorizer.fit_transform(X['question1']), vectorizer.transform(X['question2']))"
   ]
  },
  {
   "cell_type": "code",
   "execution_count": 10,
   "metadata": {
    "collapsed": true
   },
   "outputs": [],
   "source": [
    "def debug_shape(X):\n",
    "    print(X.shape)\n",
    "    return X"
   ]
  },
  {
   "cell_type": "code",
   "execution_count": 12,
   "metadata": {
    "collapsed": true
   },
   "outputs": [],
   "source": [
    "# function to return data of specific column\n",
    "def get_question(data, column):\n",
    "    return data.loc[:,column]"
   ]
  },
  {
   "cell_type": "code",
   "execution_count": 13,
   "metadata": {
    "collapsed": false
   },
   "outputs": [],
   "source": [
    "# pipeline to process data + classification training\n",
    "rf_pipeline = Pipeline([('preprocessing', FeatureUnion([('cos_sim', Pipeline([('process_questions', FunctionTransformer(process_questions_func,\n",
    "                                                                                                            kw_args={'stops':stops},\n",
    "                                                                                                            validate=False)),\n",
    "                                                                   ('cosine_sim', FunctionTransformer(get_cos_sim,validate=False))])),\n",
    "                                                                    # process question1 and question2 independently for NMF\n",
    "                                                        ('union', FeatureUnion([\n",
    "                                                                        # process question1\n",
    "                                                                        ('process_q1', Pipeline([\n",
    "                                                                                        # get data from column 'question1'\n",
    "                                                                                        ('get_q1', FunctionTransformer(get_question,\n",
    "                                                                                                                       kw_args={'column':'question1'},\n",
    "                                                                                                                       validate=False)),\n",
    "                                                                                        # CountVectorizer + TfIdf with TfidfVectorizer\n",
    "                                                                                        # stop_words from nltk data\n",
    "                                                                                        # and max_df to remove any repeating patterns that are not\n",
    "                                                                                        # captured by stop_words\n",
    "                                                                                        ('vectorizer1', CountVectorizer(stop_words=stops, \n",
    "                                                                                                                        max_df=0.8)),\n",
    "                                                                                         # instead of deciding which features to keep let's\n",
    "                                                                                        # try and keep first 100 components using NMF\n",
    "                                                                                        ('dim_red', NMF(100))\n",
    "                                                                                        ])),\n",
    "\n",
    "                                                                        # do the same with 'question2' column\n",
    "                                                                        ('process_q2', Pipeline([\n",
    "                                                                                        ('get_q2', FunctionTransformer(get_question,\n",
    "                                                                                                                       kw_args={'column':'question2'},\n",
    "                                                                                                                       validate=False)),\n",
    "                                                                                        ('vectorizer2', CountVectorizer(stop_words=stops, \n",
    "                                                                                                                        max_df=0.8)),\n",
    "                                                                                        ('dim_red', NMF(100))\n",
    "                                                                        ]))]))])),\n",
    "                        # use the processed columns 'question1' and 'question2' to train a model\n",
    "                        ('clf', RandomForestClassifier(100, n_jobs=-1))])"
   ]
  },
  {
   "cell_type": "code",
   "execution_count": null,
   "metadata": {
    "collapsed": true
   },
   "outputs": [],
   "source": [
    "%%time\n",
    "# train model using the pipeline\n",
    "rf_pipeline.fit(X_train, y_train)"
   ]
  },
  {
   "cell_type": "code",
   "execution_count": null,
   "metadata": {
    "collapsed": true
   },
   "outputs": [],
   "source": [
    "%%time\n",
    "# calculate logloss using the test set predictions by the pipeline object\n",
    "log_loss(y_test, rf_pipeline.predict_proba(X_test))"
   ]
  },
  {
   "cell_type": "code",
   "execution_count": null,
   "metadata": {
    "collapsed": true
   },
   "outputs": [],
   "source": []
  }
 ],
 "metadata": {
  "kernelspec": {
   "display_name": "Python [conda root]",
   "language": "python",
   "name": "conda-root-py"
  },
  "language_info": {
   "codemirror_mode": {
    "name": "ipython",
    "version": 3
   },
   "file_extension": ".py",
   "mimetype": "text/x-python",
   "name": "python",
   "nbconvert_exporter": "python",
   "pygments_lexer": "ipython3",
   "version": "3.5.2"
  }
 },
 "nbformat": 4,
 "nbformat_minor": 2
}
